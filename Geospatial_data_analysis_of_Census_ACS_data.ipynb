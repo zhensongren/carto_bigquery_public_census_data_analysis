{
  "nbformat": 4,
  "nbformat_minor": 0,
  "metadata": {
    "colab": {
      "name": "Geospatial data analysis of Census ACS data.ipynb",
      "provenance": [],
      "collapsed_sections": [],
      "include_colab_link": true
    },
    "kernelspec": {
      "name": "python3",
      "display_name": "Python 3"
    }
  },
  "cells": [
    {
      "cell_type": "markdown",
      "metadata": {
        "id": "view-in-github",
        "colab_type": "text"
      },
      "source": [
        "<a href=\"https://colab.research.google.com/github/zhensongren/carto_bigquery_public_census_data_analysis/blob/master/Geospatial_data_analysis_of_Census_ACS_data.ipynb\" target=\"_parent\"><img src=\"https://colab.research.google.com/assets/colab-badge.svg\" alt=\"Open In Colab\"/></a>"
      ]
    },
    {
      "cell_type": "markdown",
      "metadata": {
        "id": "c93IhMtrV7cg",
        "colab_type": "text"
      },
      "source": [
        "# Median household income in Greater Houston area\n",
        "Greater Houston, designated as Houston–The Woodlands–Sugar Land, is the 5th-most populous metropolitan statistical area in the United States.[Greater Houston-wikipedia](https://en.wikipedia.org/wiki/Greater_Houston)\n",
        "\n",
        "Here, we're looking at median income in the most recent year(2018) in historical ACS data (2007 - 2018) provided by CARTO and made publicly available as part of [BigQuery's Public Datasets](https://cloud.google.com/bigquery/public-data/).\n",
        "\n",
        "For visualization we're joining with [CARTO's custom shoreline-clipped version](https://carto.com/blog/tiger-shoreline-clip/) of the U.S. Census' TIGER boundaries. These are also publicly accessible as part of CARTO's own public dataset initiative in the `carto-do-public-data` BQ project."
      ]
    },
    {
      "cell_type": "code",
      "metadata": {
        "id": "gP78MPEyRg5Y",
        "colab_type": "code",
        "colab": {}
      },
      "source": [
        "!pip install cartoframes==1.0b3\n",
        "!pip install geopandas"
      ],
      "execution_count": 0,
      "outputs": []
    },
    {
      "cell_type": "code",
      "metadata": {
        "id": "lOU3x6JpRjBX",
        "colab_type": "code",
        "colab": {}
      },
      "source": [
        "from google.colab import auth\n",
        "auth.authenticate_user()\n",
        "print('Authenticated')"
      ],
      "execution_count": 0,
      "outputs": []
    },
    {
      "cell_type": "markdown",
      "metadata": {
        "id": "tJaibclh9v2g",
        "colab_type": "text"
      },
      "source": [
        "## Get the data from BigQuery"
      ]
    },
    {
      "cell_type": "code",
      "metadata": {
        "id": "0J6lKzTlReNi",
        "colab_type": "code",
        "colab": {}
      },
      "source": [
        "import geopandas as gpd\n",
        "\n",
        "from cartoframes.viz.helpers import color_bins_layer\n",
        "from google.cloud import bigquery\n",
        "from shapely import wkt\n",
        "\n",
        "####### REPLACE THIS WITH YOUR OWN GCLOUD PROJECT YOU WANT TO BE BILLED####\n",
        "bq_client = bigquery.Client('carto-do')\n",
        "\n",
        "q = '''\n",
        "WITH acs_2017 AS (\n",
        "  SELECT geo_id, median_income AS median_income_2017\n",
        "  FROM `bigquery-public-data.census_bureau_acs.blockgroup_2017_5yr`  \n",
        "  WHERE geo_id LIKE '36047%'\n",
        "),\n",
        "\n",
        "acs_2010 AS (\n",
        "  SELECT geo_id, median_income AS median_income_2010\n",
        "  FROM `bigquery-public-data.census_bureau_acs.blockgroup_2010_5yr` \n",
        "  WHERE geo_id LIKE '36047%'\n",
        "),\n",
        "\n",
        "acs_diff AS (\n",
        "  SELECT\n",
        "    a17.geo_id, a17.median_income_2017, a10.median_income_2010, geo.geom,\n",
        "    a17.median_income_2017 - a10.median_income_2010 AS median_income_diff\n",
        "  FROM acs_2017 a17\n",
        "  JOIN acs_2010 a10\n",
        "    ON a17.geo_id = a10.geo_id\n",
        "  JOIN `carto-do-public-data.usa_carto.geography_usa_blockgroupclipped_2015` geo\n",
        "    ON a17.geo_id = geo.geoid\n",
        ")\n",
        "\n",
        "SELECT * FROM acs_diff WHERE median_income_diff IS NOT NULL\n",
        "'''\n",
        "\n",
        "df = bq_client.query(q).to_dataframe()\n",
        "gdf = gpd.GeoDataFrame(df, geometry=df.geom.apply(wkt.loads))\n",
        "\n",
        "color_bins_layer(gdf, value='median_income_diff',palette='[#64B97A,#DFF873,#f54260]',bins=10,legend=False, widget=True)"
      ],
      "execution_count": 0,
      "outputs": []
    },
    {
      "cell_type": "code",
      "metadata": {
        "id": "UsT7xK39F5eL",
        "colab_type": "code",
        "colab": {}
      },
      "source": [
        "# Much more complex query calculating \n",
        "# polyfilling with H3 hexagon cells, \n",
        "# Calculating the value/num of cells within the polygon\n",
        "# making a Kring to smooth borders\n",
        "q = '''\n",
        "with data as (\n",
        "select \n",
        "  g.geoid,\n",
        "  jslibs.h3.ST_H3_POLYFILLFROMGEOG(g.geom,10) as h3ids,\n",
        "  ARRAY_LENGTH(jslibs.h3.ST_H3_POLYFILLFROMGEOG(g.geom,10)) as num_h3,\n",
        "  total_pop\n",
        "  from `carto-do-public-data.usa_carto.geography_usa_blockgroupclipped_2015` as g\n",
        "  inner join  `bigquery-public-data.census_bureau_acs.blockgroup_2017_5yr` as s \n",
        "  on g.geoid=s.geo_id\n",
        "  WHERE g.geoid LIKE '36047%'\n",
        "),\n",
        "\n",
        "--Assign to each grid the amount proportionally\n",
        "h3assigned AS (\n",
        "SELECT h3,total_pop/num_h3 as total_pop_n,total_pop,num_h3\n",
        "FROM data,UNNEST(h3ids) as h3\n",
        "),\n",
        "\n",
        "h3kgrids AS(\n",
        "SELECT jslibs.h3.kRing(h3,2) as kgrids,total_pop_n,total_pop,num_h3 \n",
        "FROM h3assigned),\n",
        "\n",
        "un_kgrid AS(\n",
        "SELECT grids,total_pop_n,total_pop,num_h3  FROM h3kgrids,UNNEST(kgrids) as grids),\n",
        "\n",
        "layer AS (\n",
        "SELECT jslibs.h3.ST_H3_BOUNDARY(grids) as geom,\n",
        "ROUND(avg(total_pop_n),3) as total_pop_n,\n",
        "avg(total_pop) as orig_total_pop\n",
        "FROM un_kgrid group by grids)\n",
        "\n",
        "SELECT * FROM layer\n",
        "\n",
        "'''\n",
        "\n",
        "\n",
        "df = bq_client.query(q).to_dataframe()\n",
        "gdf = gpd.GeoDataFrame(df, geometry=df.geom.apply(wkt.loads))"
      ],
      "execution_count": 0,
      "outputs": []
    },
    {
      "cell_type": "code",
      "metadata": {
        "id": "EpFTx-HbKEs9",
        "colab_type": "code",
        "colab": {}
      },
      "source": [
        "#visualize it on CartoFrames\n",
        "color_bins_layer(gdf, value='total_pop_n',palette='[#ffffff,#64B97A,#DFF873,#f54260,#e20aff]',bins=10,stroke_color=\"transparent\",legend=False, widget=True)"
      ],
      "execution_count": 0,
      "outputs": []
    }
  ]
}